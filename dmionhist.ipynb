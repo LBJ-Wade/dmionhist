{
 "cells": [
  {
   "cell_type": "code",
   "execution_count": 1,
   "metadata": {
    "collapsed": false
   },
   "outputs": [],
   "source": [
    "from numpy import *\n",
    "from scipy.integrate import odeint\n",
    "from cosmo import * \n",
    "from TLA   import *\n",
    "import matplotlib.pyplot as plt\n",
    "%matplotlib inline"
   ]
  },
  {
   "cell_type": "markdown",
   "metadata": {},
   "source": [
    "# Three-Level Atom Integration"
   ]
  },
  {
   "cell_type": "code",
   "execution_count": 2,
   "metadata": {
    "collapsed": false
   },
   "outputs": [
    {
     "data": {
      "image/png": "[encoded data removed]",
      "text/plain": [
       "<matplotlib.figure.Figure at 0x10bc046d8>"
      ]
     },
     "metadata": {},
     "output_type": "display_data"
    }
   ],
   "source": [
    "def getfz():\n",
    "    def fzHIon(rs):\n",
    "        return 0\n",
    "    def fzHeIon(rs):\n",
    "        return 0\n",
    "    def fzHLya(rs):\n",
    "        return 0\n",
    "    def fzHeat(rs):\n",
    "        return 0\n",
    "    return {'HIon':fzHIon, 'HeIon':fzHeIon, 'HLya':fzHLya, 'Heat':fzHeat}\n",
    "\n",
    "def getinjrate():\n",
    "    def injrate(rs): \n",
    "        return 0\n",
    "    return injrate\n",
    "\n",
    "initrs = 2000\n",
    "initCond = [TCMB(initrs), 5]\n",
    "\n",
    "p = getTLADE(getfz(),getinjrate())\n",
    "\n",
    "rsVec = flipud(logspace(2,log10(initrs), num=40))\n",
    "\n",
    "a = odeint(p,initCond,rsVec)\n",
    "plt.plot(rsVec,0.5+0.5*tanh(a[:,1]),'b',label='theta(t)')\n",
    "plt.xscale('log')\n",
    "plt.yscale('log')\n",
    "\n",
    "plt.show()"
   ]
  },
  {
   "cell_type": "code",
   "execution_count": null,
   "metadata": {
    "collapsed": true
   },
   "outputs": [],
   "source": []
  }
 ],
 "metadata": {
  "kernelspec": {
   "display_name": "Python 3",
   "language": "python",
   "name": "python3"
  },
  "language_info": {
   "codemirror_mode": {
    "name": "ipython",
    "version": 3
   },
   "file_extension": ".py",
   "mimetype": "text/x-python",
   "name": "python",
   "nbconvert_exporter": "python",
   "pygments_lexer": "ipython3",
   "version": "3.5.2"
  }
 },
 "nbformat": 4,
 "nbformat_minor": 1
}
